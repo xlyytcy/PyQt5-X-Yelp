{
 "cells": [
  {
   "cell_type": "code",
   "execution_count": 36,
   "metadata": {},
   "outputs": [],
   "source": [
    "# Data collected over a period of 12 hours\n",
    "# Dig on DNS address 1.1.1.1 on 3 popular search engines and 2 privacy-focused ones\n",
    "# Google, Yahoo, Bing & StartPage, DuckDuckGo\n",
    "\n",
    "import re\n",
    "import pandas as pd\n",
    "import numpy as np\n",
    "import matplotlib.pyplot as plt\n",
    "from itertools import chain\n",
    "import csv"
   ]
  },
  {
   "cell_type": "code",
   "execution_count": 35,
   "metadata": {},
   "outputs": [],
   "source": [
    "# The file processing function\n",
    "#'/Users/XG/Desktop/Python_DNSAssign/dig__.txt'\n",
    "def processFile(fileLoc):\n",
    "    \n",
    "    with open(fileLoc) as f:\n",
    "        processed_vec = []\n",
    "        for line in f:\n",
    "            if line.startswith(\";; flags: qr ra;\"):\n",
    "                processed_vec.append(line[2:])    \n",
    "        #df = pd.DataFrame(processed_vec)     \n",
    "\n",
    "    indices = []\n",
    "    for i, elem in enumerate(processed_vec):\n",
    "        if 'ANSWER: 0' in elem:\n",
    "            indices.append(i)\n",
    "    #print(indices)\n",
    "\n",
    "    bing_vec = []\n",
    "    \n",
    "    ctr = 0\n",
    "    for i in range(len(indices) - 1):\n",
    "        if indices[i+1] == indices[i] + 1:\n",
    "            ctr = ctr + 1\n",
    "        else:\n",
    "            bing_vec.append(ctr)\n",
    "            ctr = 0\n",
    "\n",
    "    bing_vec = list(filter((0).__ne__, bing_vec))\n",
    "\n",
    "    return bing_vec\n",
    "    print(bing_vec)\n",
    "    #print(indices)\n",
    "    "
   ]
  },
  {
   "cell_type": "code",
   "execution_count": 40,
   "metadata": {},
   "outputs": [],
   "source": [
    "google_out = processFile('/Users/XG/Desktop/Python_DNSAssign/digGoogle.txt')\n",
    "duck_out = processFile('/Users/XG/Desktop/Python_DNSAssign/digDuck.txt')\n",
    "bing_out = processFile('/Users/XG/Desktop/Python_DNSAssign/digBing.txt')\n",
    "startPage_out = processFile('/Users/XG/Desktop/Python_DNSAssign/digStartpage.txt')\n",
    "yahoo_out = processFile('/Users/XG/Desktop/Python_DNSAssign/digYahoo.txt')"
   ]
  },
  {
   "cell_type": "code",
   "execution_count": 59,
   "metadata": {},
   "outputs": [],
   "source": [
    "import itertools\n",
    "#rows = list(zip(google_out,duck_out,bing_out,startPage_out,yahoo_out))\n",
    "\n",
    "rows = [google_out, duck_out, bing_out, startPage_out, yahoo_out]\n",
    "#print(rows)\n",
    "\n",
    "rows = [list(tup) for tup in itertools.zip_longest(*rows, fillvalue=\"\")]\n",
    "\n",
    "with open('/Users/XG/Desktop/Python_DNSAssign/output.csv', \"w\") as f:\n",
    "    writer = csv.writer(f)\n",
    "    for row in rows:\n",
    "        writer.writerow(row)\n",
    "        \n"
   ]
  },
  {
   "cell_type": "code",
   "execution_count": 61,
   "metadata": {},
   "outputs": [
    {
     "data": {
      "image/png": "[encoded data removed]",
      "text/plain": [
       "<Figure size 432x288 with 1 Axes>"
      ]
     },
     "metadata": {},
     "output_type": "display_data"
    }
   ],
   "source": [
    "# with reference to https://stackoverflow.com/questions/40470120/how-to-plot-several-cumulative-distribution-functions-from-data-in-a-csv-file-in\n",
    "data_req = pd.read_table('/Users/XG/Desktop/Python_DNSAssign/output.csv', sep=\",\")\n",
    "\n",
    "arr = data_req.values \n",
    "arr.sort(axis=0) \n",
    "data_req = pd.DataFrame(arr, index=data_req.index, columns=data_req.columns)\n",
    "sorted_values = data_req\n",
    "\n",
    "for col in sorted_values.columns: \n",
    "    y = np.linspace(0.,1., len(sorted_values[col].dropna()))\n",
    "    plt.plot(sorted_values[col].dropna(), y)"
   ]
  }
 ],
 "metadata": {
  "kernelspec": {
   "display_name": "Python 3",
   "language": "python",
   "name": "python3"
  },
  "language_info": {
   "codemirror_mode": {
    "name": "ipython",
    "version": 3
   },
   "file_extension": ".py",
   "mimetype": "text/x-python",
   "name": "python",
   "nbconvert_exporter": "python",
   "pygments_lexer": "ipython3",
   "version": "3.6.5"
  }
 },
 "nbformat": 4,
 "nbformat_minor": 2
}
